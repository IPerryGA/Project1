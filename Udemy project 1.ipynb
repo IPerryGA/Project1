{
 "cells": [
  {
   "cell_type": "markdown",
   "metadata": {},
   "source": [
    "#### Build a random text generator"
   ]
  },
  {
   "cell_type": "code",
   "execution_count": 42,
   "metadata": {
    "collapsed": false
   },
   "outputs": [],
   "source": [
    "import string"
   ]
  },
  {
   "cell_type": "code",
   "execution_count": 12,
   "metadata": {
    "collapsed": false
   },
   "outputs": [
    {
     "data": {
      "text/plain": [
       "'abcdefghijklmnopqrstuvwxyzABCDEFGHIJKLMNOPQRSTUVWXYZ'"
      ]
     },
     "execution_count": 12,
     "metadata": {},
     "output_type": "execute_result"
    }
   ],
   "source": [
    "string.ascii_letters"
   ]
  },
  {
   "cell_type": "code",
   "execution_count": 14,
   "metadata": {
    "collapsed": false
   },
   "outputs": [
    {
     "data": {
      "text/plain": [
       "'abcdefghijklmnopqrstuvwxyz'"
      ]
     },
     "execution_count": 14,
     "metadata": {},
     "output_type": "execute_result"
    }
   ],
   "source": [
    "string.ascii_lowercase"
   ]
  },
  {
   "cell_type": "code",
   "execution_count": 15,
   "metadata": {
    "collapsed": true
   },
   "outputs": [],
   "source": [
    "import random"
   ]
  },
  {
   "cell_type": "code",
   "execution_count": 25,
   "metadata": {
    "collapsed": false
   },
   "outputs": [
    {
     "data": {
      "text/plain": [
       "'q'"
      ]
     },
     "execution_count": 25,
     "metadata": {},
     "output_type": "execute_result"
    }
   ],
   "source": [
    "#test a random lowercase letter\n",
    "random.choice(string.ascii_lowercase)"
   ]
  },
  {
   "cell_type": "code",
   "execution_count": 54,
   "metadata": {
    "collapsed": false
   },
   "outputs": [
    {
     "name": "stdout",
     "output_type": "stream",
     "text": [
      "What letter do you want? Enter 'c' for consonant, 'v' for Vowel, 'l' for any letter: l\n",
      "What letter do you want? Enter 'c' for consonant, 'v' for Vowel, 'l' for any letter: v\n",
      "What letter do you want? Enter 'c' for consonant, 'v' for Vowel, 'l' for any letter: c\n",
      "lvc\n",
      "bac\n",
      "cav\n",
      "map\n",
      "lav\n",
      "uiz\n",
      "biy\n",
      "wow\n",
      "kuw\n",
      "eag\n",
      "wex\n",
      "oul\n",
      "aan\n",
      "iaw\n",
      "iug\n",
      "qam\n",
      "dux\n",
      "xaz\n",
      "yaj\n",
      "pic\n",
      "lag\n"
     ]
    }
   ],
   "source": [
    "vowels = 'aeiou'\n",
    "consonents = 'bcdfghjklmnpqrstvwxyz'\n",
    "all_letters = 'abcdefghijklmnopqrstuvwxyz'\n",
    "letter_input_1=raw_input(\"What letter do you want? Enter 'c' for consonant, 'v' for Vowel, 'l' for any letter: \")\n",
    "letter_input_2=raw_input(\"What letter do you want? Enter 'c' for consonant, 'v' for Vowel, 'l' for any letter: \")\n",
    "letter_input_3=raw_input(\"What letter do you want? Enter 'c' for consonant, 'v' for Vowel, 'l' for any letter: \")\n",
    "print(letter_input_1+letter_input_2+letter_input_3)\n",
    "\n",
    "\n",
    "def generator():\n",
    "    if letter_input_1=='v':\n",
    "        letter1=random.choice(vowels)\n",
    "    elif letter_input_1=='c':\n",
    "        letter1=random.choice(consonents)\n",
    "    elif letter_input_1=='l':\n",
    "        letter1=random.choice(all_letters)\n",
    "    else: letter1 = letter_input_1\n",
    "        \n",
    "    if letter_input_2=='v':\n",
    "        letter2=random.choice(vowels)\n",
    "    elif letter_input_2=='c':\n",
    "        letter2=random.choice(consonents)\n",
    "    elif letter_input_2=='l':\n",
    "        letter2=random.choice(all_letters)\n",
    "    else: letter2 = letter_input_2\n",
    "        \n",
    "\n",
    "    if letter_input_3=='v':\n",
    "        letter3=random.choice(vowels)\n",
    "    elif letter_input_3=='c':\n",
    "        letter3=random.choice(consonents)\n",
    "    elif letter_input_3=='l':\n",
    "        letter3=random.choice(all_letters)\n",
    "    else: letter3 = letter_input_3\n",
    "        \n",
    "        \n",
    "        \n",
    "\n",
    "    name=letter1+letter2+letter3\n",
    "    return (name)\n",
    "\n",
    "for i in range(20):\n",
    "    print (generator())\n"
   ]
  }
 ],
 "metadata": {
  "anaconda-cloud": {},
  "kernelspec": {
   "display_name": "Python [Root]",
   "language": "python",
   "name": "Python [Root]"
  },
  "language_info": {
   "codemirror_mode": {
    "name": "ipython",
    "version": 2
   },
   "file_extension": ".py",
   "mimetype": "text/x-python",
   "name": "python",
   "nbconvert_exporter": "python",
   "pygments_lexer": "ipython2",
   "version": "2.7.12"
  }
 },
 "nbformat": 4,
 "nbformat_minor": 0
}
